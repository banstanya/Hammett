{
 "cells": [
  {
   "cell_type": "markdown",
   "metadata": {},
   "source": [
    "Project: Prediction of Hammett Parameters using Molecular Structural Information\n",
    "Date: 08/16/2018"
   ]
  },
  {
   "cell_type": "markdown",
   "metadata": {},
   "source": [
    "Install rdkit in Anaconda environment (https://www.rdkit.org/docs/GettingStartedInPython.html)"
   ]
  },
  {
   "cell_type": "code",
   "execution_count": 2,
   "metadata": {},
   "outputs": [],
   "source": [
    "#Packages to read and manipulate molecular structural information\n",
    "from rdkit import Chem\n",
    "from rdkit.Chem import AllChem"
   ]
  },
  {
   "cell_type": "code",
   "execution_count": 3,
   "metadata": {},
   "outputs": [],
   "source": [
    "#Read sdf file containing structural information of ligand database\n",
    "ligands =Chem.SDMolSupplier('C:/Users/banst/Google Drive/USC Acad/Chemistry_ML/ligands')"
   ]
  },
  {
   "cell_type": "code",
   "execution_count": 6,
   "metadata": {
    "scrolled": true
   },
   "outputs": [],
   "source": [
    "#Import packages for molecular decriptors and fingerprints (refer to rdkit tutorial)\n",
    "from rdkit import DataStructs\n",
    "from rdkit.Chem import Descriptors\n",
    "from rdkit.Chem.Fingerprints import FingerprintMols"
   ]
  },
  {
   "cell_type": "code",
   "execution_count": 7,
   "metadata": {},
   "outputs": [],
   "source": [
    "# Import data analysis tools\n",
    "import pandas as pd\n",
    "import numpy as np"
   ]
  },
  {
   "cell_type": "code",
   "execution_count": 8,
   "metadata": {},
   "outputs": [],
   "source": [
    "# Read input database file in csv format\n",
    "input=pd.read_csv('C:/Users/banst/Google Drive/USC Acad/Chemistry_ML/input.csv')"
   ]
  },
  {
   "cell_type": "code",
   "execution_count": 9,
   "metadata": {
    "scrolled": false
   },
   "outputs": [
    {
     "data": {
      "text/plain": [
       "(395, 7)"
      ]
     },
     "execution_count": 9,
     "metadata": {},
     "output_type": "execute_result"
    }
   ],
   "source": [
    "input.shape"
   ]
  },
  {
   "cell_type": "code",
   "execution_count": 33,
   "metadata": {
    "scrolled": true
   },
   "outputs": [],
   "source": [
    "# Define output Y\n",
    "Y=input[['Hammett Constant']].copy()\n",
    "# Define variables for isomer type and dipole moments from input\n",
    "Isomer=input[['Isomer']].copy()\n",
    "#Dipole=input[['Dipole']].copy()"
   ]
  },
  {
   "cell_type": "code",
   "execution_count": 13,
   "metadata": {},
   "outputs": [],
   "source": [
    "# MACCS keys\n",
    "from rdkit.Chem import MACCSkeys"
   ]
  },
  {
   "cell_type": "code",
   "execution_count": 14,
   "metadata": {
    "scrolled": false
   },
   "outputs": [],
   "source": [
    "#Generate MACC fingerprint for ligands\n",
    "macc= [MACCSkeys.GenMACCSKeys(x) for x in ligands]"
   ]
  },
  {
   "cell_type": "code",
   "execution_count": 17,
   "metadata": {
    "scrolled": true
   },
   "outputs": [
    {
     "data": {
      "text/plain": [
       "(395L, 1024L)"
      ]
     },
     "execution_count": 17,
     "metadata": {},
     "output_type": "execute_result"
    }
   ],
   "source": [
    "#Gnerate ECFP fingerprint for ligands [length=1024]\n",
    "morgan=[AllChem.GetMorganFingerprintAsBitVect(x,2,nBits=1024) for x in ligands]\n",
    "#convert fingerprint to np array\n",
    "efp=np.array(morgan)\n",
    "efp.shape"
   ]
  },
  {
   "cell_type": "code",
   "execution_count": 19,
   "metadata": {},
   "outputs": [
    {
     "data": {
      "text/plain": [
       "(395L, 1025L)"
      ]
     },
     "execution_count": 19,
     "metadata": {},
     "output_type": "execute_result"
    }
   ],
   "source": [
    "#Define input\n",
    "X=np.concatenate((efp,Isomer),axis=1)\n",
    "#X=np.concatenate((X,Dipole),axis=1)\n",
    "X.shape"
   ]
  },
  {
   "cell_type": "code",
   "execution_count": 26,
   "metadata": {},
   "outputs": [],
   "source": [
    "#Normalize input dataset to mean=0 and sd=1\n",
    "from sklearn import preprocessing\n",
    "X=preprocessing.normalize(X)\n",
    "from sklearn.metrics import mean_squared_error\n",
    "from sklearn.neural_network import MLPRegressor"
   ]
  },
  {
   "cell_type": "markdown",
   "metadata": {},
   "source": [
    "Define Bootstrap Function: Generates a indices randomly"
   ]
  },
  {
   "cell_type": "code",
   "execution_count": 28,
   "metadata": {},
   "outputs": [],
   "source": [
    "def bootstrap_resample(X, n=None):\n",
    "   \n",
    "    if n == None:\n",
    "        n = len(X)\n",
    "        \n",
    "    resample_i = np.floor(np.random.rand(n)*len(X)).astype(int)\n",
    "    i= resample_i\n",
    "    return i"
   ]
  },
  {
   "cell_type": "markdown",
   "metadata": {},
   "source": [
    "Regularizarion: Define an array for regularization parameter alpha,\n",
    "Develop ANN fits for all alpha values and calculate the Mean squared errors for each,\n",
    "Plot MSE vs alpha to find optimum value for regularization parameter,\n",
    "MSE formula:\n",
    "MSE(total)=0.3698(MSE_train)+(0.632MSE_test)"
   ]
  },
  {
   "cell_type": "code",
   "execution_count": 45,
   "metadata": {},
   "outputs": [],
   "source": [
    "#Creating training set\n",
    "i = bootstrap_resample(X,n=None)\n",
    "train=X[i]\n",
    "test=np.delete(X,i,axis=0)\n",
    "Y=np.array(Y)\n",
    "Y_train=Y[i]\n",
    "Y_test=np.delete(Y,i,axis=0)"
   ]
  },
  {
   "cell_type": "code",
   "execution_count": 46,
   "metadata": {},
   "outputs": [],
   "source": [
    "#Define null arrays\n",
    "MSE_reg=np.zeros(10)\n",
    "MSE_train=np.zeros(10)\n",
    "MSE_test=np.zeros(10)\n",
    "#Define alpha array\n",
    "a=[0.01,0.03,0.05,0.07,0.09,0.11,0.13,0.15,0.17,0.19]\n",
    "#Fit neural network\n",
    "for j in range(0,10):\n",
    "    mlp_resample = MLPRegressor(hidden_layer_sizes=(250),alpha = a[j])   #ANN fit\n",
    "    mlp_resample.fit(train,Y_train)\n",
    "    Y_pred_test=mlp_resample.predict(test)   \n",
    "    Y_pred_train=mlp_resample.predict(train)\n",
    "    MSE_train[j]=mean_squared_error(Y_train, Y_pred_train)\n",
    "    MSE_test[j]= mean_squared_error(Y_test, Y_pred_test)\n",
    "    MSE_reg[j]=(MSE_train[j]*0.368)+(0.632)*(MSE_test[j])\n",
    "    "
   ]
  },
  {
   "cell_type": "code",
   "execution_count": 47,
   "metadata": {
    "scrolled": true
   },
   "outputs": [
    {
     "data": {
      "text/plain": [
       "<matplotlib.collections.PathCollection at 0x10752518>"
      ]
     },
     "execution_count": 47,
     "metadata": {},
     "output_type": "execute_result"
    },
    {
     "data": {
      "image/png": "[encoded data removed]",
      "text/plain": [
       "<matplotlib.figure.Figure at 0xefc5eb8>"
      ]
     },
     "metadata": {},
     "output_type": "display_data"
    }
   ],
   "source": [
    "#Plot Error vs alpha\n",
    "plt.scatter(a,MSE_reg)"
   ]
  },
  {
   "cell_type": "code",
   "execution_count": 48,
   "metadata": {},
   "outputs": [
    {
     "data": {
      "text/plain": [
       "[<matplotlib.lines.Line2D at 0xe210b00>,\n",
       " <matplotlib.lines.Line2D at 0xe210b70>]"
      ]
     },
     "execution_count": 48,
     "metadata": {},
     "output_type": "execute_result"
    },
    {
     "data": {
      "image/png": "[encoded data removed]",
      "text/plain": [
       "<matplotlib.figure.Figure at 0x107e1ba8>"
      ]
     },
     "metadata": {},
     "output_type": "display_data"
    }
   ],
   "source": [
    "plt.plot(a,MSE_train,'bs',a,MSE_test,'gs')\n"
   ]
  },
  {
   "cell_type": "code",
   "execution_count": 37,
   "metadata": {},
   "outputs": [],
   "source": [
    "import matplotlib.pyplot as plt"
   ]
  },
  {
   "cell_type": "code",
   "execution_count": 41,
   "metadata": {},
   "outputs": [],
   "source": [
    "#Define null arrays\n",
    "MSE_boot=np.zeros((250),dtype= float)\n",
    "Index= np.zeros((250,395),dtype=int)"
   ]
  },
  {
   "cell_type": "code",
   "execution_count": 43,
   "metadata": {},
   "outputs": [],
   "source": [
    "#Store bootstrap outputs\n",
    "Y_prediction=np.zeros(395).T"
   ]
  },
  {
   "cell_type": "code",
   "execution_count": 44,
   "metadata": {},
   "outputs": [],
   "source": [
    "#Define ANN model with 250 hidden neurons and alpha =0.05\n",
    "mlp_resample = MLPRegressor(hidden_layer_sizes=(250),alpha = 0.05)"
   ]
  },
  {
   "cell_type": "code",
   "execution_count": 47,
   "metadata": {},
   "outputs": [],
   "source": [
    "#Bootstrap resampling\n",
    "\n",
    "for m in range(0,250):\n",
    "    ind = bootstrap_resample(X,n=116) #Call bootstrap to randomly select index\n",
    "    Index[m]=ind\n",
    "    X_resample= X[ind]\n",
    "    Y_resample= Y[ind]\n",
    "    X_testbsr=np.delete(X,ind,axis=0)\n",
    "    Y_testbsr=np.delete(Y,ind,axis=0)\n",
    "    #ANN\n",
    "    mlp_resample.fit(X_resample,Y_resample)\n",
    "    Y_pred_resample=mlp_resample.predict(X_testbsr)  #Fit ANN on test\n",
    "    Y_pred_train=mlp_resample.predict(X_resample)    #Fit ANN on training set\n",
    "    Y_pred_all[:,m]=mlp_resample.predict(X)          # Fit ANN on complete database\n",
    "    MSE_train=mean_squared_error(Y_resample, Y_pred_train)\n",
    "    MSE_test= mean_squared_error(Y_testbsr, Y_pred_resample)\n",
    "    MSE_boot[m]=(MSE_train*0.368)+(0.632)*(MSE_test)"
   ]
  },
  {
   "cell_type": "code",
   "execution_count": null,
   "metadata": {
    "scrolled": false
   },
   "outputs": [],
   "source": [
    "min(MSE_boot)"
   ]
  },
  {
   "cell_type": "code",
   "execution_count": null,
   "metadata": {},
   "outputs": [],
   "source": [
    "#Save errors and Y predictions in csv files\n",
    "pd.DataFrame(MSE_boot).to_csv('MSE_boot.csv')\n",
    "pd.DataFrame(Y_pred_all).to_csv('Y_pred_all.csv')"
   ]
  },
  {
   "cell_type": "markdown",
   "metadata": {},
   "source": [
    "Calculate 95% Confidence intervals over entire Bootstrap runs"
   ]
  },
  {
   "cell_type": "code",
   "execution_count": null,
   "metadata": {
    "scrolled": true
   },
   "outputs": [],
   "source": [
    "#Confidence intervals\n",
    "d=np.sort(Y_pred_all)\n",
    "alpha=0.95\n",
    "lower=np.zeros(395)\n",
    "upper=np.zeros(395)\n",
    "mean=np.mean(d,axis=1)\n",
    "p = ((1.0-alpha)/2.0) * 100\n",
    "q = (alpha+((1.0-alpha)/2.0)) * 100\n",
    "for j in range(0,395):\n",
    "    min_=min(d[j])\n",
    "    max_=max(d[j])\n",
    "    lower[j] = max(min_, np.percentile(d[j,:], p)) #Lower limit\n",
    "    upper[j]=min(max_, np.percentile(d[j,:], q))   #Upper limit\n",
    "    "
   ]
  },
  {
   "cell_type": "code",
   "execution_count": null,
   "metadata": {},
   "outputs": [],
   "source": [
    "#Store limits in csv\n",
    "pd.DataFrame(lower).to_csv('lowerlimit.csv')\n",
    "pd.DataFrame(upper).to_csv('upperlimit.csv')\n",
    "pd.DataFrame(mean).to_csv('means.csv')"
   ]
  },
  {
   "cell_type": "code",
   "execution_count": null,
   "metadata": {
    "scrolled": false
   },
   "outputs": [],
   "source": [
    "plt.plot(MSE_boot)"
   ]
  },
  {
   "cell_type": "code",
   "execution_count": null,
   "metadata": {},
   "outputs": [],
   "source": [
    "b=np.argmin(MSE_boot)\n",
    "min_index=Index[b]\n",
    "min_index=np.array(min_index)"
   ]
  },
  {
   "cell_type": "code",
   "execution_count": null,
   "metadata": {},
   "outputs": [],
   "source": [
    "train_best= X[min_index]\n",
    "train_best.shape\n",
    "Y_best_train= Y[min_index]"
   ]
  },
  {
   "cell_type": "code",
   "execution_count": null,
   "metadata": {
    "scrolled": true
   },
   "outputs": [],
   "source": [
    "#Predicting output for model with least error\n",
    "mlp_resample.fit(train_best,Y_best_train)\n",
    "Y_prediction=mlp2.predict(X)"
   ]
  },
  {
   "cell_type": "code",
   "execution_count": null,
   "metadata": {
    "scrolled": true
   },
   "outputs": [],
   "source": [
    "plt.scatter(Y_test,Y_prediction)"
   ]
  },
  {
   "cell_type": "code",
   "execution_count": null,
   "metadata": {},
   "outputs": [],
   "source": [
    "#Save output in csv\n",
    "pd.DataFrame(Y_test).to_csv('Y_test.csv')\n",
    "pd.DataFrame(Y_prediction).to_csv('Y_prediction.csv')\n"
   ]
  }
 ],
 "metadata": {
  "celltoolbar": "Raw Cell Format",
  "kernelspec": {
   "display_name": "Python 2",
   "language": "python",
   "name": "python2"
  },
  "language_info": {
   "codemirror_mode": {
    "name": "ipython",
    "version": 2
   },
   "file_extension": ".py",
   "mimetype": "text/x-python",
   "name": "python",
   "nbconvert_exporter": "python",
   "pygments_lexer": "ipython2",
   "version": "2.7.14"
  }
 },
 "nbformat": 4,
 "nbformat_minor": 2
}
